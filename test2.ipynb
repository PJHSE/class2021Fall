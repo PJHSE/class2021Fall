{
  "nbformat": 4,
  "nbformat_minor": 0,
  "metadata": {
    "colab": {
      "name": "test.ipynb",
      "provenance": [],
      "authorship_tag": "ABX9TyNnx+i7MZG9ysR6ZqAfy2rn",
      "include_colab_link": true
    },
    "kernelspec": {
      "name": "python3",
      "display_name": "Python 3"
    },
    "language_info": {
      "name": "python"
    }
  },
  "cells": [
    {
      "cell_type": "markdown",
      "metadata": {
        "id": "view-in-github",
        "colab_type": "text"
      },
      "source": [
        "<a href=\"https://colab.research.google.com/github/PJHSE/class2021Fall/blob/main/test2.ipynb\" target=\"_parent\"><img src=\"https://colab.research.google.com/assets/colab-badge.svg\" alt=\"Open In Colab\"/></a>"
      ]
    },
    {
      "cell_type": "markdown",
      "metadata": {
        "id": "Jwq0u_sN-YWb"
      },
      "source": [
        "**변수 (variables), 제어문(syntax), 함수**"
      ]
    },
    {
      "cell_type": "code",
      "metadata": {
        "id": "QJTasJBGXJze",
        "colab": {
          "base_uri": "https://localhost:8080/"
        },
        "outputId": "fdffa454-0d01-43d4-c4e6-cf1dfc3ef51a"
      },
      "source": [
        "c = 1\n",
        "a = 1.1\n",
        "b = 'hello'\n",
        "d = [1, 'abc', 2.1]\n",
        "\n",
        "# 여기는 실행이 되지 않습니다... 오늘 숙제 \n",
        "\n",
        "# print(a)\n",
        "# print(b)\n",
        "\n",
        "print(type(a))\n",
        "print(type(c))\n",
        "print(type(b))\n",
        "print(type(d))"
      ],
      "execution_count": 9,
      "outputs": [
        {
          "output_type": "stream",
          "name": "stdout",
          "text": [
            "<class 'float'>\n",
            "<class 'int'>\n",
            "<class 'str'>\n",
            "<class 'list'>\n"
          ]
        }
      ]
    },
    {
      "cell_type": "markdown",
      "metadata": {
        "id": "EzuwvrCQXMGO"
      },
      "source": [
        "test"
      ]
    }
  ]
}