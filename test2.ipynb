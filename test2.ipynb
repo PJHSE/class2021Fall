{
  "nbformat": 4,
  "nbformat_minor": 0,
  "metadata": {
    "colab": {
      "name": "test.ipynb",
      "provenance": [],
      "authorship_tag": "ABX9TyMQYWYcZwwYN+9ohl0Zy9vG",
      "include_colab_link": true
    },
    "kernelspec": {
      "name": "python3",
      "display_name": "Python 3"
    },
    "language_info": {
      "name": "python"
    }
  },
  "cells": [
    {
      "cell_type": "markdown",
      "metadata": {
        "id": "view-in-github",
        "colab_type": "text"
      },
      "source": [
        "<a href=\"https://colab.research.google.com/github/PJHSE/class2021Fall/blob/main/test2.ipynb\" target=\"_parent\"><img src=\"https://colab.research.google.com/assets/colab-badge.svg\" alt=\"Open In Colab\"/></a>"
      ]
    },
    {
      "cell_type": "markdown",
      "metadata": {
        "id": "Jwq0u_sN-YWb"
      },
      "source": [
        "**변수 (variables), 제어문(syntax), 함수**"
      ]
    },
    {
      "cell_type": "code",
      "metadata": {
        "id": "QJTasJBGXJze",
        "colab": {
          "base_uri": "https://localhost:8080/"
        },
        "outputId": "2b9720ac-5426-4e2a-a08d-02b4c4a2e10c"
      },
      "source": [
        "c = 1\n",
        "a = 1.1\n",
        "b = 'hello'\n",
        "d = [1, 'abc', 2.1]\n",
        "e = { \"apple\" : \"red fruit\",  \"banana\" : \"yellow fruit\"}\n",
        "\n",
        "# 여기는 실행이 되지 않습니다... 오늘 숙제 \n",
        "\n",
        "# print(a)\n",
        "# print(b)\n",
        "\n",
        "# print(type(a))\n",
        "# print(type(c))\n",
        "# print(type(b))\n",
        "# print(type(d))\n",
        "\n",
        "print(e[\"apple\"])\n"
      ],
      "execution_count": 9,
      "outputs": [
        {
          "output_type": "stream",
          "name": "stdout",
          "text": [
            "red fruit\n"
          ]
        }
      ]
    },
    {
      "cell_type": "markdown",
      "metadata": {
        "id": "EzuwvrCQXMGO"
      },
      "source": [
        "test"
      ]
    }
  ]
}