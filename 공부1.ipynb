{
  "nbformat": 4,
  "nbformat_minor": 0,
  "metadata": {
    "colab": {
      "name": "Untitled2.ipynb",
      "provenance": [],
      "authorship_tag": "ABX9TyPGvm2plp0WugParzQQOqeb",
      "include_colab_link": true
    },
    "kernelspec": {
      "name": "python3",
      "display_name": "Python 3"
    },
    "language_info": {
      "name": "python"
    }
  },
  "cells": [
    {
      "cell_type": "markdown",
      "metadata": {
        "id": "view-in-github",
        "colab_type": "text"
      },
      "source": [
        "<a href=\"https://colab.research.google.com/github/PJHSE/class2021Fall/blob/main/%EA%B3%B5%EB%B6%801.ipynb\" target=\"_parent\"><img src=\"https://colab.research.google.com/assets/colab-badge.svg\" alt=\"Open In Colab\"/></a>"
      ]
    },
    {
      "cell_type": "markdown",
      "source": [
        "제일 **처음** 해 보는 코딩입니다."
      ],
      "metadata": {
        "id": "zls9EDLzeUfb"
      }
    },
    {
      "cell_type": "code",
      "execution_count": 24,
      "metadata": {
        "colab": {
          "base_uri": "https://localhost:8080/"
        },
        "id": "RjcX_zzSeSYE",
        "outputId": "4eedd8cf-6b2f-406f-a259-9ec529b3ce64"
      },
      "outputs": [
        {
          "output_type": "stream",
          "name": "stdout",
          "text": [
            "<class 'int'>\n",
            "<class 'float'>\n",
            "h\n",
            "[1, 'abc']\n",
            "<class 'dict'>\n",
            "some fruit\n"
          ]
        }
      ],
      "source": [
        "#변수(variables), 제어문(syntax), 함수 이 3가지가 모든 언어에 공통적으로 들어가는 것.\n",
        "a = 1\n",
        "b = 'hello' #이렇게 다양한 변수가 있음. 글자를 표현할 때는 text, string, ''을 써야 함.\n",
        "a\n",
        "c = 1.1\n",
        "print(type(a)) #type은 어떤 타입인지 보여주는 것.\n",
        "print(type(c))\n",
        "type(b)\n",
        "\n",
        "d = [1, 'abc', 2.1] #이렇게 여러가지를 변수로 쓸 수도 있음\n",
        "type(d)\n",
        "\n",
        "e = { \"a\" : \"some fruit\" , \"banana\" : \"yellow fruit\"}\n",
        "\n",
        "print (b[0]) #특정 정보에 access하는 것.\n",
        "\n",
        "print (d[0:2]) #파이썬에서는 0으로 시작 0부터 2 하나 전까지\n",
        "\n",
        "print(type(e)) \n",
        "\n",
        "#print(e[0]) 이렇게 하면 에러 뜸\n",
        "\n",
        "print(e[\"a\"]) #이래서 dict라고 부르는 것.\n",
        "\n",
        "#여기까지 주요 변수 int, float, string, dict, list\n",
        "#dict가 다른 이유는, 키워드 표제어에 해당하는 부분으로 access로 하는 것이 특징이기 때문.\n",
        "#=은 같다는 뜻이 아니라, 오른쪽에 있는 것을 왼쪽에 넣어라 라는 의미.\n",
        "#그렇다고 1 = 4 이런 게 되는 것은 아님. 변수에는 문자가 있어야 된다. 문자가 앞에. "
      ]
    },
    {
      "cell_type": "markdown",
      "source": [
        "이제 syntax를 배워보자"
      ],
      "metadata": {
        "id": "r-L6eK3bjfyy"
      }
    },
    {
      "cell_type": "code",
      "source": [
        "a = [1, 2, 3, 4]\n",
        "for i in a:     #구조, 문법을 이해하자.\n",
        "    print(i)    #indentation을 왜 하냐, for 밑에서 반복되는 것들로 한정짓는 약속이다.\n",
        "print(i+1)      #이렇게 빠져 나온. 마지막 i로. "
      ],
      "metadata": {
        "colab": {
          "base_uri": "https://localhost:8080/"
        },
        "id": "JYjFhZ5cjdvr",
        "outputId": "bfbc6598-9108-4d91-f957-719d1239030c"
      },
      "execution_count": 33,
      "outputs": [
        {
          "output_type": "stream",
          "name": "stdout",
          "text": [
            "1\n",
            "2\n",
            "3\n",
            "4\n",
            "5\n"
          ]
        }
      ]
    },
    {
      "cell_type": "markdown",
      "source": [
        "위에서는 a를 받았는데, 난 a를 받지 않고 내가 숫자를 만들겠다. \n",
        "for i in range(4) 이런 식으로, range 하면 그 숫자 이전 숫자까지. 4개의 index, 0 1 2 3 이 만들어 짐.\n",
        "len(x) 함수는 list의 길이를 찾아줌. "
      ],
      "metadata": {
        "id": "L-WmWZwPk-Wn"
      }
    },
    {
      "cell_type": "code",
      "source": [
        "a = [1, 2, 3, 4]\n",
        "for i in range(len(a)):\n",
        "    print(a[i])"
      ],
      "metadata": {
        "colab": {
          "base_uri": "https://localhost:8080/"
        },
        "id": "l26Xl6F4jnfv",
        "outputId": "34b81801-034e-4875-ee93-c813a93a5e50"
      },
      "execution_count": 26,
      "outputs": [
        {
          "output_type": "stream",
          "name": "stdout",
          "text": [
            "1\n",
            "2\n",
            "3\n",
            "4\n"
          ]
        }
      ]
    },
    {
      "cell_type": "markdown",
      "source": [
        "string만으로 되어 있는 list.\n"
      ],
      "metadata": {
        "id": "gUDim6milxXS"
      }
    },
    {
      "cell_type": "code",
      "source": [
        "a = ['red', 'green', 'blue', 'purple']\n",
        "for i in a:\n",
        "    print(i)"
      ],
      "metadata": {
        "colab": {
          "base_uri": "https://localhost:8080/"
        },
        "id": "jm9tb9HvjqHN",
        "outputId": "8a7addbb-d89e-48ba-bd21-e0a42c2db2ac"
      },
      "execution_count": 27,
      "outputs": [
        {
          "output_type": "stream",
          "name": "stdout",
          "text": [
            "red\n",
            "green\n",
            "blue\n",
            "purple\n"
          ]
        }
      ]
    },
    {
      "cell_type": "markdown",
      "source": [
        ""
      ],
      "metadata": {
        "id": "EaCrcJ3imVaD"
      }
    },
    {
      "cell_type": "code",
      "source": [
        "a = ['red', 'green', 'blue', 'purple']\n",
        "for i in range(len(a)):\n",
        "    print(a[i])"
      ],
      "metadata": {
        "id": "4DT4wWeGmADI"
      },
      "execution_count": null,
      "outputs": []
    },
    {
      "cell_type": "markdown",
      "source": [
        "if에서 알아야 할 것은, 일단 if 밑에 들어가는 것도 indent로 표시\n",
        "여기서 진짜 같다면 이라는 뜻으로 == 2개를 씀 이것이 진정 equal.\n",
        "indentation은 grouping.\n"
      ],
      "metadata": {
        "id": "A6GP_2jjmfFH"
      }
    },
    {
      "cell_type": "code",
      "source": [
        "a = 0\n",
        "if a == 0:\n",
        "    print(a)\n",
        "else:\n",
        "    print(a+1)\n"
      ],
      "metadata": {
        "colab": {
          "base_uri": "https://localhost:8080/"
        },
        "id": "O2WShndNmBA7",
        "outputId": "76227ca2-a41a-49d3-f724-87003a7c94a6"
      },
      "execution_count": 34,
      "outputs": [
        {
          "output_type": "stream",
          "name": "stdout",
          "text": [
            "0\n"
          ]
        }
      ]
    },
    {
      "cell_type": "markdown",
      "source": [
        "여기부터 for가 2개 인데, 2중으로 되어있는 for 구조. "
      ],
      "metadata": {
        "id": "IVCE0e_Cm6eq"
      }
    },
    {
      "cell_type": "code",
      "source": [
        "for i in range(1, 3):\n",
        "    for j in range(3, 5):\n",
        "        print(i*j)"
      ],
      "metadata": {
        "id": "dylpxdClmB3l"
      },
      "execution_count": null,
      "outputs": []
    },
    {
      "cell_type": "code",
      "source": [
        "for i in range(1, 3):\n",
        "    for j in range(3, 5):\n",
        "        if j >=4:\n",
        "            print(i*j)"
      ],
      "metadata": {
        "id": "O6HuHZA7mCDl"
      },
      "execution_count": null,
      "outputs": []
    },
    {
      "cell_type": "code",
      "source": [
        "a = [1, 2, 3, 4]\n",
        "b = [i for i in a if i >=2]\n",
        "b"
      ],
      "metadata": {
        "id": "OULf5KTdmCML"
      },
      "execution_count": null,
      "outputs": []
    },
    {
      "cell_type": "code",
      "source": [
        "a = ['red', 'green', 'blue', 'purple']\n",
        "b = [i for i in a if len(i) >=4]\n",
        "b"
      ],
      "metadata": {
        "id": "OH4-OnhymFvg"
      },
      "execution_count": null,
      "outputs": []
    }
  ]
}