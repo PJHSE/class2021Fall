{
  "nbformat": 4,
  "nbformat_minor": 0,
  "metadata": {
    "colab": {
      "name": "Untitled2.ipynb",
      "provenance": [],
      "authorship_tag": "ABX9TyNc1qijFNqmKEo+ejFpDZEY",
      "include_colab_link": true
    },
    "kernelspec": {
      "name": "python3",
      "display_name": "Python 3"
    },
    "language_info": {
      "name": "python"
    }
  },
  "cells": [
    {
      "cell_type": "markdown",
      "metadata": {
        "id": "view-in-github",
        "colab_type": "text"
      },
      "source": [
        "<a href=\"https://colab.research.google.com/github/PJHSE/class2021Fall/blob/main/%EA%B3%B5%EB%B6%801.ipynb\" target=\"_parent\"><img src=\"https://colab.research.google.com/assets/colab-badge.svg\" alt=\"Open In Colab\"/></a>"
      ]
    },
    {
      "cell_type": "markdown",
      "source": [
        "제일 **처음** 해 보는 코딩입니다."
      ],
      "metadata": {
        "id": "zls9EDLzeUfb"
      }
    },
    {
      "cell_type": "code",
      "execution_count": null,
      "metadata": {
        "colab": {
          "base_uri": "https://localhost:8080/"
        },
        "id": "RjcX_zzSeSYE",
        "outputId": "4eedd8cf-6b2f-406f-a259-9ec529b3ce64"
      },
      "outputs": [
        {
          "output_type": "stream",
          "name": "stdout",
          "text": [
            "<class 'int'>\n",
            "<class 'float'>\n",
            "h\n",
            "[1, 'abc']\n",
            "<class 'dict'>\n",
            "some fruit\n"
          ]
        }
      ],
      "source": [
        "#변수(variables), 제어문(syntax), 함수 이 3가지가 모든 언어에 공통적으로 들어가는 것.\n",
        "a = 1\n",
        "b = 'hello' #이렇게 다양한 변수가 있음. 글자를 표현할 때는 text, string, ''을 써야 함.\n",
        "a\n",
        "c = 1.1\n",
        "print(type(a)) #type은 어떤 타입인지 보여주는 것.\n",
        "print(type(c))\n",
        "type(b)\n",
        "\n",
        "d = [1, 'abc', 2.1] #이렇게 여러가지를 변수로 쓸 수도 있음\n",
        "type(d)\n",
        "\n",
        "e = { \"a\" : \"some fruit\" , \"banana\" : \"yellow fruit\"}\n",
        "\n",
        "print (b[0]) #특정 정보에 access하는 것.\n",
        "\n",
        "print (d[0:2]) #파이썬에서는 0으로 시작 0부터 2 하나 전까지\n",
        "\n",
        "print(type(e)) \n",
        "\n",
        "#print(e[0]) 이렇게 하면 에러 뜸\n",
        "\n",
        "print(e[\"a\"]) #이래서 dict라고 부르는 것.\n",
        "\n",
        "#여기까지 주요 변수 int, float, string, dict, list\n",
        "#dict가 다른 이유는, 키워드 표제어에 해당하는 부분으로 access로 하는 것이 특징이기 때문.\n",
        "#=은 같다는 뜻이 아니라, 오른쪽에 있는 것을 왼쪽에 넣어라 라는 의미.\n",
        "#그렇다고 1 = 4 이런 게 되는 것은 아님. 변수에는 문자가 있어야 된다. 문자가 앞에. "
      ]
    },
    {
      "cell_type": "markdown",
      "source": [
        "이제 syntax를 배워보자"
      ],
      "metadata": {
        "id": "r-L6eK3bjfyy"
      }
    },
    {
      "cell_type": "code",
      "source": [
        "a = [1, 2, 3, 4]\n",
        "for i in a:     #구조, 문법을 이해하자.\n",
        "    print(i)    #indentation을 왜 하냐, for 밑에서 반복되는 것들로 한정짓는 약속이다.\n",
        "print(i+1)      #이렇게 빠져 나온. 마지막 i로. "
      ],
      "metadata": {
        "colab": {
          "base_uri": "https://localhost:8080/"
        },
        "id": "JYjFhZ5cjdvr",
        "outputId": "bfbc6598-9108-4d91-f957-719d1239030c"
      },
      "execution_count": null,
      "outputs": [
        {
          "output_type": "stream",
          "name": "stdout",
          "text": [
            "1\n",
            "2\n",
            "3\n",
            "4\n",
            "5\n"
          ]
        }
      ]
    },
    {
      "cell_type": "markdown",
      "source": [
        "위에서는 a를 받았는데, 난 a를 받지 않고 내가 숫자를 만들겠다. \n",
        "for i in range(4) 이런 식으로, range 하면 그 숫자 이전 숫자까지. 4개의 index, 0 1 2 3 이 만들어 짐.\n",
        "len(x) 함수는 list의 길이를 찾아줌. "
      ],
      "metadata": {
        "id": "L-WmWZwPk-Wn"
      }
    },
    {
      "cell_type": "code",
      "source": [
        "a = [1, 2, 3, 4]\n",
        "for i in range(len(a)):\n",
        "    print(a[i])"
      ],
      "metadata": {
        "colab": {
          "base_uri": "https://localhost:8080/"
        },
        "id": "l26Xl6F4jnfv",
        "outputId": "34b81801-034e-4875-ee93-c813a93a5e50"
      },
      "execution_count": null,
      "outputs": [
        {
          "output_type": "stream",
          "name": "stdout",
          "text": [
            "1\n",
            "2\n",
            "3\n",
            "4\n"
          ]
        }
      ]
    },
    {
      "cell_type": "markdown",
      "source": [
        "string만으로 되어 있는 list.\n"
      ],
      "metadata": {
        "id": "gUDim6milxXS"
      }
    },
    {
      "cell_type": "code",
      "source": [
        "a = ['red', 'green', 'blue', 'purple']\n",
        "for i in a:\n",
        "    print(i)"
      ],
      "metadata": {
        "colab": {
          "base_uri": "https://localhost:8080/"
        },
        "id": "jm9tb9HvjqHN",
        "outputId": "8a7addbb-d89e-48ba-bd21-e0a42c2db2ac"
      },
      "execution_count": null,
      "outputs": [
        {
          "output_type": "stream",
          "name": "stdout",
          "text": [
            "red\n",
            "green\n",
            "blue\n",
            "purple\n"
          ]
        }
      ]
    },
    {
      "cell_type": "markdown",
      "source": [
        ""
      ],
      "metadata": {
        "id": "EaCrcJ3imVaD"
      }
    },
    {
      "cell_type": "code",
      "source": [
        "a = ['red', 'green', 'blue', 'purple']\n",
        "for i in range(len(a)):\n",
        "    print(a[i])"
      ],
      "metadata": {
        "id": "4DT4wWeGmADI"
      },
      "execution_count": null,
      "outputs": []
    },
    {
      "cell_type": "markdown",
      "source": [
        "if에서 알아야 할 것은, 일단 if 밑에 들어가는 것도 indent로 표시\n",
        "여기서 진짜 같다면 이라는 뜻으로 == 2개를 씀 이것이 진정 equal.\n",
        "indentation은 grouping.\n"
      ],
      "metadata": {
        "id": "A6GP_2jjmfFH"
      }
    },
    {
      "cell_type": "code",
      "source": [
        "a = 0\n",
        "if a == 0:\n",
        "    print(a)\n",
        "else:\n",
        "    print(a+1)\n"
      ],
      "metadata": {
        "colab": {
          "base_uri": "https://localhost:8080/"
        },
        "id": "O2WShndNmBA7",
        "outputId": "76227ca2-a41a-49d3-f724-87003a7c94a6"
      },
      "execution_count": null,
      "outputs": [
        {
          "output_type": "stream",
          "name": "stdout",
          "text": [
            "0\n"
          ]
        }
      ]
    },
    {
      "cell_type": "markdown",
      "source": [
        "여기부터 for가 2개 인데, 2중으로 되어있는 for 구조. "
      ],
      "metadata": {
        "id": "IVCE0e_Cm6eq"
      }
    },
    {
      "cell_type": "code",
      "source": [
        "for i in range(1, 3):\n",
        "    for j in range(3, 5):\n",
        "        print(i*j)"
      ],
      "metadata": {
        "id": "dylpxdClmB3l"
      },
      "execution_count": null,
      "outputs": []
    },
    {
      "cell_type": "markdown",
      "source": [
        "indentation을 통해서 어디 속하는지 볼 수 있음."
      ],
      "metadata": {
        "id": "UIwkWgupcegZ"
      }
    },
    {
      "cell_type": "code",
      "source": [
        "for i in range(1, 3):\n",
        "    for j in range(3, 5):\n",
        "        if j >=4:\n",
        "            print(i*j)"
      ],
      "metadata": {
        "id": "O6HuHZA7mCDl",
        "outputId": "96c96f5c-37e3-40d8-aac0-f164c1247d96",
        "colab": {
          "base_uri": "https://localhost:8080/"
        }
      },
      "execution_count": 6,
      "outputs": [
        {
          "output_type": "stream",
          "name": "stdout",
          "text": [
            "4\n",
            "8\n"
          ]
        }
      ]
    },
    {
      "cell_type": "markdown",
      "source": [
        "list comprehension, a가 1 2 3 4니깐 4번 도는데\n",
        "if가 for loof 밑에 있다고 생각해서\n",
        "2 3 4 만 들어 가겠네.\n",
        "맨 앞에 i의 의미는 b에다가 i를 채워서 b를 만들어라.\n",
        "list를 만들어주는 특이한 방법, python만 가지고 있는.\n",
        "1줄로 할 수 있음.."
      ],
      "metadata": {
        "id": "jwg81sgLc_bx"
      }
    },
    {
      "cell_type": "code",
      "source": [
        "a = [1, 2, 3, 4]\n",
        "b = [i for i in a if i >=2]\n",
        "b"
      ],
      "metadata": {
        "id": "OULf5KTdmCML",
        "outputId": "96cd17d7-66b8-4e25-c065-5b0c0b441516",
        "colab": {
          "base_uri": "https://localhost:8080/"
        }
      },
      "execution_count": 7,
      "outputs": [
        {
          "output_type": "execute_result",
          "data": {
            "text/plain": [
              "[2, 3, 4]"
            ]
          },
          "metadata": {},
          "execution_count": 7
        }
      ]
    },
    {
      "cell_type": "code",
      "source": [
        "a = ['red', 'green', 'blue', 'purple']\n",
        "b = [i for i in a if len(i) >=4]\n",
        "b"
      ],
      "metadata": {
        "id": "OH4-OnhymFvg",
        "outputId": "8146ffaf-1b1b-4e01-fc44-55e46842f7a2",
        "colab": {
          "base_uri": "https://localhost:8080/"
        }
      },
      "execution_count": 10,
      "outputs": [
        {
          "output_type": "execute_result",
          "data": {
            "text/plain": [
              "['green', 'blue', 'purple']"
            ]
          },
          "metadata": {},
          "execution_count": 10
        }
      ]
    },
    {
      "cell_type": "code",
      "source": [
        "print(range(4))\n",
        "a = ['hold', 'erldi', 'asda', 'asdasd']\n",
        "\n",
        "type(a)\n",
        "b = 'seqw'\n",
        "c = [i for i in a if len(i) >=4]\n",
        "c"
      ],
      "metadata": {
        "id": "PDAmz6KBbMF6",
        "outputId": "51b64d01-8395-4c63-bf6a-4833555c1af3",
        "colab": {
          "base_uri": "https://localhost:8080/"
        }
      },
      "execution_count": 23,
      "outputs": [
        {
          "output_type": "stream",
          "name": "stdout",
          "text": [
            "range(0, 4)\n"
          ]
        },
        {
          "output_type": "execute_result",
          "data": {
            "text/plain": [
              "['hold', 'erldi', 'asda', 'asdasd']"
            ]
          },
          "metadata": {},
          "execution_count": 23
        }
      ]
    },
    {
      "cell_type": "code",
      "source": [
        "import numpy as np\n",
        "n = np.random.randn(100)\n",
        "#import matplotlib\n",
        "#matplotlib.pyplot.hist(n)\n",
        "\n",
        "import matplotlib.pyplot as py\n",
        "py.hist(n)"
      ],
      "metadata": {
        "id": "wcfAY-30fewi",
        "outputId": "a22d0538-950a-4b99-98b2-510ea8e25c5f",
        "colab": {
          "base_uri": "https://localhost:8080/",
          "height": 356
        }
      },
      "execution_count": 35,
      "outputs": [
        {
          "output_type": "execute_result",
          "data": {
            "text/plain": [
              "(array([ 9.,  7., 13., 20., 20., 11., 10.,  6.,  2.,  2.]),\n",
              " array([-1.64560504, -1.20963318, -0.77366132, -0.33768946,  0.09828241,\n",
              "         0.53425427,  0.97022613,  1.40619799,  1.84216985,  2.27814172,\n",
              "         2.71411358]),\n",
              " <a list of 10 Patch objects>)"
            ]
          },
          "metadata": {},
          "execution_count": 35
        },
        {
          "output_type": "display_data",
          "data": {
            "image/png": "[encoded data removed]",
            "text/plain": [
              "<Figure size 432x288 with 1 Axes>"
            ]
          },
          "metadata": {
            "needs_background": "light"
          }
        }
      ]
    },
    {
      "cell_type": "code",
      "source": [
        "x = np.array([[1,2,3], [4,5,6,]])\n",
        "print(x)\n",
        "print(type(x))\n",
        "print(x.shape)"
      ],
      "metadata": {
        "id": "0hKmKW5efeqA",
        "outputId": "1eb7694d-385c-4b01-d3a4-4a14fa70fda7",
        "colab": {
          "base_uri": "https://localhost:8080/"
        }
      },
      "execution_count": 41,
      "outputs": [
        {
          "output_type": "stream",
          "name": "stdout",
          "text": [
            "[[1 2 3]\n",
            " [4 5 6]]\n",
            "<class 'numpy.ndarray'>\n",
            "(2, 3)\n"
          ]
        }
      ]
    },
    {
      "cell_type": "markdown",
      "source": [
        "0부터 10까지 2만큼 증가시키면서 10이 되기 전에 stop."
      ],
      "metadata": {
        "id": "PyrrGSCXojZf"
      }
    },
    {
      "cell_type": "code",
      "source": [
        "x = np.arange(0,10,2)\n",
        "print(x)\n",
        "print(type(x))\n",
        "print(x.shape)"
      ],
      "metadata": {
        "id": "d_v_O7uEfenE",
        "outputId": "e01461d0-b2ef-4376-c190-dc5153e75e41",
        "colab": {
          "base_uri": "https://localhost:8080/"
        }
      },
      "execution_count": 42,
      "outputs": [
        {
          "output_type": "stream",
          "name": "stdout",
          "text": [
            "[0 2 4 6 8]\n",
            "<class 'numpy.ndarray'>\n",
            "(5,)\n"
          ]
        }
      ]
    },
    {
      "cell_type": "markdown",
      "source": [
        "ones라는 함수, 1로 채워서 만들어 주는. "
      ],
      "metadata": {
        "id": "F2JyKsRDp1Hg"
      }
    },
    {
      "cell_type": "code",
      "source": [
        "x = np.ones([2, 2, 3])\n",
        "print(x)\n",
        "print(type(x))\n",
        "print(x.shape)"
      ],
      "metadata": {
        "id": "tTvBGAIvfeka",
        "outputId": "4d09b1bb-e3ef-4d7f-ca72-3598ed3e5ced",
        "colab": {
          "base_uri": "https://localhost:8080/"
        }
      },
      "execution_count": 43,
      "outputs": [
        {
          "output_type": "stream",
          "name": "stdout",
          "text": [
            "[[[1. 1. 1.]\n",
            "  [1. 1. 1.]]\n",
            "\n",
            " [[1. 1. 1.]\n",
            "  [1. 1. 1.]]]\n",
            "<class 'numpy.ndarray'>\n",
            "(2, 2, 3)\n"
          ]
        }
      ]
    },
    {
      "cell_type": "code",
      "source": [
        "import matplotlib.pyplot as plt\n"
      ],
      "metadata": {
        "id": "ie80tG1yfeg4"
      },
      "execution_count": 44,
      "outputs": []
    },
    {
      "cell_type": "code",
      "source": [
        "x = np.random.normal(0, 1, 100)\n",
        "print(x)\n",
        "plt.hist(x, bins=25)"
      ],
      "metadata": {
        "id": "hTHMjhQUfeV5",
        "outputId": "82a4c2e5-5727-496d-9958-05c7923af80c",
        "colab": {
          "base_uri": "https://localhost:8080/",
          "height": 737
        }
      },
      "execution_count": 47,
      "outputs": [
        {
          "output_type": "stream",
          "name": "stdout",
          "text": [
            "[ 0.35659897 -0.02569938 -0.15158202 -0.51777296 -0.36413588  0.21537021\n",
            "  1.33809786  1.23555925 -1.20098152  1.09177783 -0.81783279 -0.50309068\n",
            " -3.13123404  2.79495349 -0.38960764 -0.70436616 -0.44067613 -0.85000436\n",
            " -0.37814935  0.26674794 -0.86644077 -1.16765699 -0.38658207 -1.33547902\n",
            "  0.69609824 -2.02650334  0.83471737 -1.33937674  0.89102292  2.67526642\n",
            "  1.03412324  0.70503084 -1.33994691 -1.16644848 -0.0538855   1.2958548\n",
            "  0.32322256  1.19851075 -2.92908775 -0.02563186  1.37417343 -0.99031907\n",
            " -0.61728262 -0.15968525 -0.48270198  0.23418572  0.76760118  1.11386995\n",
            " -1.15178417  0.12347015 -0.01074974 -0.48921289 -0.43306179  0.30923628\n",
            " -0.49390822  1.18394524 -0.92956447 -0.66042952 -0.42512543 -0.44455557\n",
            "  0.60306667  0.99120595 -0.21612516 -0.01263451  0.39206435  0.88951886\n",
            "  0.11826898  0.77682507 -0.75681746  0.7157597  -2.05139546 -0.66781389\n",
            " -1.30501361  1.65988431 -1.10727495  0.57446362  0.84291136 -1.31872189\n",
            " -1.59481433 -0.10879919  0.11869538  1.49728429 -0.9605738   1.07736982\n",
            "  0.33062481 -0.30710692  1.12749701  1.5157785  -0.07002363  1.03681677\n",
            "  0.26309652 -0.96737297  0.4099538  -0.72584733  0.15142091  1.21352776\n",
            " -0.44088673 -0.41049407 -0.42207127  0.65921508]\n"
          ]
        },
        {
          "output_type": "execute_result",
          "data": {
            "text/plain": [
              "(array([ 2.,  0.,  0.,  0.,  2.,  0.,  1.,  5.,  5.,  7.,  6., 17.,  6.,\n",
              "         8., 10.,  3.,  9.,  7.,  6.,  3.,  1.,  0.,  0.,  0.,  2.]),\n",
              " array([-3.13123404, -2.89418654, -2.65713904, -2.42009154, -2.18304403,\n",
              "        -1.94599653, -1.70894903, -1.47190153, -1.23485403, -0.99780653,\n",
              "        -0.76075903, -0.52371152, -0.28666402, -0.04961652,  0.18743098,\n",
              "         0.42447848,  0.66152598,  0.89857348,  1.13562098,  1.37266849,\n",
              "         1.60971599,  1.84676349,  2.08381099,  2.32085849,  2.55790599,\n",
              "         2.79495349]),\n",
              " <a list of 25 Patch objects>)"
            ]
          },
          "metadata": {},
          "execution_count": 47
        },
        {
          "output_type": "display_data",
          "data": {
            "image/png": "[encoded data removed]",
            "text/plain": [
              "<Figure size 432x288 with 1 Axes>"
            ]
          },
          "metadata": {
            "needs_background": "light"
          }
        }
      ]
    },
    {
      "cell_type": "code",
      "source": [
        "theta = np.linspace(0, 2*np.pi, 100)\n",
        "s = np.sin(theta)\n",
        "plt.plot(theta, s, '.')\n",
        "plt.xlabel('angle')\n",
        "plt.ylabel('value')\n",
        "plt.title('my first sine curve')"
      ],
      "metadata": {
        "id": "5wRRBtECrSXv",
        "outputId": "661cbde5-a355-4605-fe8f-390eb954d76e",
        "colab": {
          "base_uri": "https://localhost:8080/",
          "height": 313
        }
      },
      "execution_count": 50,
      "outputs": [
        {
          "output_type": "execute_result",
          "data": {
            "text/plain": [
              "Text(0.5, 1.0, 'my first sine curve')"
            ]
          },
          "metadata": {},
          "execution_count": 50
        },
        {
          "output_type": "display_data",
          "data": {
            "image/png": "[encoded data removed]",
            "text/plain": [
              "<Figure size 432x288 with 1 Axes>"
            ]
          },
          "metadata": {
            "needs_background": "light"
          }
        }
      ]
    },
    {
      "cell_type": "code",
      "source": [
        "theta2 = np.linspace(0, 2*np.pi, 100) + np.pi/2\n",
        "s2 = np.sin(theta2)\n",
        "plt.plot(theta2, s2, '.')"
      ],
      "metadata": {
        "id": "65FYJ_Eis4-g",
        "outputId": "07b773ac-1d40-426d-d563-1b40b6eb6d7c",
        "colab": {
          "base_uri": "https://localhost:8080/",
          "height": 283
        }
      },
      "execution_count": 51,
      "outputs": [
        {
          "output_type": "execute_result",
          "data": {
            "text/plain": [
              "[<matplotlib.lines.Line2D at 0x7fb33b3fba10>]"
            ]
          },
          "metadata": {},
          "execution_count": 51
        },
        {
          "output_type": "display_data",
          "data": {
            "image/png": "[encoded data removed]",
            "text/plain": [
              "<Figure size 432x288 with 1 Axes>"
            ]
          },
          "metadata": {
            "needs_background": "light"
          }
        }
      ]
    },
    {
      "cell_type": "markdown",
      "source": [
        "필기 확인. 행렬이 나오는 것. 표로 생각해서 보자."
      ],
      "metadata": {
        "id": "chwpl_R3xv3A"
      }
    },
    {
      "cell_type": "code",
      "source": [
        "np.corrcoef(s,s2)"
      ],
      "metadata": {
        "id": "WyGwVTI8xl_2",
        "outputId": "756f929e-b843-47dd-d206-c26fbbfebe59",
        "colab": {
          "base_uri": "https://localhost:8080/"
        }
      },
      "execution_count": 52,
      "outputs": [
        {
          "output_type": "execute_result",
          "data": {
            "text/plain": [
              "array([[1.00000000e+00, 2.41915449e-17],\n",
              "       [2.41915449e-17, 1.00000000e+00]])"
            ]
          },
          "metadata": {},
          "execution_count": 52
        }
      ]
    },
    {
      "cell_type": "code",
      "source": [
        "import numpy as np\n",
        "import matplotlib.pyplot as plt\n",
        "import IPython.display as ipd"
      ],
      "metadata": {
        "id": "SriWbmYDyOMg"
      },
      "execution_count": 2,
      "outputs": []
    },
    {
      "cell_type": "markdown",
      "source": [
        "# **Phasor**"
      ],
      "metadata": {
        "id": "ZMI7yXjiyUc5"
      }
    },
    {
      "cell_type": "code",
      "source": [
        "# parameter setting\n",
        "amp = 1          # range [0.0, 1.0]\n",
        "sr = 10000       # sampling rate, Hz\n",
        "dur = 0.5        # in seconds\n",
        "freq = 100.0     # sine frequency, Hz\n",
        "phase = np.pi/2  # phase, radian"
      ],
      "metadata": {
        "id": "Z-SpsOIHyOGQ"
      },
      "execution_count": 5,
      "outputs": []
    },
    {
      "cell_type": "code",
      "source": [
        "# generate samples\n",
        "nSamp = sr * dur\n",
        "samples = np.arange(1, nSamp+1)"
      ],
      "metadata": {
        "id": "AQhW3kW7yN_g"
      },
      "execution_count": 6,
      "outputs": []
    },
    {
      "cell_type": "code",
      "source": [
        "# convert samples to time\n",
        "t = samples/sr"
      ],
      "metadata": {
        "id": "s1t_cAvUyN6N"
      },
      "execution_count": 7,
      "outputs": []
    },
    {
      "cell_type": "code",
      "source": [
        "# convert time to angle in radian\n",
        "theta0 = t * 2*np.pi * freq"
      ],
      "metadata": {
        "id": "bNCqyyklyN4I"
      },
      "execution_count": 8,
      "outputs": []
    },
    {
      "cell_type": "code",
      "source": [
        "# shift angle by phase\n",
        "theta = theta0 + phase"
      ],
      "metadata": {
        "id": "2FXr1SWHyNh3"
      },
      "execution_count": 10,
      "outputs": []
    },
    {
      "cell_type": "code",
      "source": [
        "# generate signal by sin-phasor\n",
        "s = amp * np.sin(theta)"
      ],
      "metadata": {
        "id": "RrEF0Bs5cD9M"
      },
      "execution_count": 11,
      "outputs": []
    },
    {
      "cell_type": "code",
      "source": [
        "# plot the entire signal\n",
        "plt.plot(t, s, ':')\n",
        "plt.xlabel('time (s)')\n",
        "plt.ylabel('real')"
      ],
      "metadata": {
        "id": "dxm2NTcKcD1u",
        "outputId": "a88a957d-ac2c-4a92-a191-e75391653e91",
        "colab": {
          "base_uri": "https://localhost:8080/",
          "height": 297
        }
      },
      "execution_count": 12,
      "outputs": [
        {
          "output_type": "execute_result",
          "data": {
            "text/plain": [
              "Text(0, 0.5, 'real')"
            ]
          },
          "metadata": {},
          "execution_count": 12
        },
        {
          "output_type": "display_data",
          "data": {
            "image/png": "[encoded data removed]",
            "text/plain": [
              "<Figure size 432x288 with 1 Axes>"
            ]
          },
          "metadata": {
            "needs_background": "light"
          }
        }
      ]
    },
    {
      "cell_type": "code",
      "source": [
        "# plot a certain of signals\n",
        "sampleRng = np.arange(0,100)\n",
        "plt.plot(t[sampleRng], s[sampleRng], ':')\n",
        "plt.xlabel('time (s)')\n",
        "plt.ylabel('real')"
      ],
      "metadata": {
        "id": "l4J51dlQcDui",
        "outputId": "7122a30e-c4ed-418f-9a3f-dc041f5681ec",
        "colab": {
          "base_uri": "https://localhost:8080/",
          "height": 297
        }
      },
      "execution_count": 13,
      "outputs": [
        {
          "output_type": "execute_result",
          "data": {
            "text/plain": [
              "Text(0, 0.5, 'real')"
            ]
          },
          "metadata": {},
          "execution_count": 13
        },
        {
          "output_type": "display_data",
          "data": {
            "image/png": "[encoded data removed]",
            "text/plain": [
              "<Figure size 432x288 with 1 Axes>"
            ]
          },
          "metadata": {
            "needs_background": "light"
          }
        }
      ]
    },
    {
      "cell_type": "code",
      "source": [
        "ipd.Audio(s, rate=10000)"
      ],
      "metadata": {
        "id": "o3fAQ4prdZFy",
        "outputId": "3f8a2f5a-0bbf-4193-9795-8c1bfc93cd50",
        "colab": {
          "base_uri": "https://localhost:8080/",
          "height": 74
        }
      },
      "execution_count": 19,
      "outputs": [
        {
          "output_type": "execute_result",
          "data": {
            "text/html": [
              "\n",
              "                <audio controls=\"controls\" >\n",
              "                    <source src=\"data:audio/wav;base64,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\" type=\"audio/wav\" />\n",
              "                    Your browser does not support the audio element.\n",
              "                </audio>\n",
              "              "
            ],
            "text/plain": [
              "<IPython.lib.display.Audio object>"
            ]
          },
          "metadata": {},
          "execution_count": 19
        }
      ]
    },
    {
      "cell_type": "code",
      "source": [
        "def phasor_sine(amp, sr, dur, freq, phase):\n",
        "  t = np.arange(1, sr * dur+1)/sr\n",
        "  theta = t * 2*np.pi * freq + phase\n",
        "  s = amp * np.sin(theta)\n",
        "  return s, t, theta"
      ],
      "metadata": {
        "id": "ei1JcaxmdzS7"
      },
      "execution_count": 20,
      "outputs": []
    },
    {
      "cell_type": "code",
      "source": [
        "amp = 1; sr = 10000; dur = 1; freq = 440; phase = 0\n",
        "s, t, theta = phasor_sine(amp, sr, dur, freq, phase)\n",
        "ipd.Audio(s, rate=sr)"
      ],
      "metadata": {
        "id": "f-9eKVl8eDxj",
        "outputId": "8944ef79-b268-4f0b-c714-23b65d06324a",
        "colab": {
          "base_uri": "https://localhost:8080/",
          "height": 74
        }
      },
      "execution_count": 24,
      "outputs": [
        {
          "output_type": "execute_result",
          "data": {
            "text/html": [
              "\n",
              "                <audio controls=\"controls\" >\n",
              "                    <source src=\"data:audio/wav;base64,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\" type=\"audio/wav\" />\n",
              "                    Your browser does not support the audio element.\n",
              "                </audio>\n",
              "              "
            ],
            "text/plain": [
              "<IPython.lib.display.Audio object>"
            ]
          },
          "metadata": {},
          "execution_count": 24
        }
      ]
    },
    {
      "cell_type": "markdown",
      "source": [
        "# **NlP**"
      ],
      "metadata": {
        "id": "TeP1SxiAkeW3"
      }
    },
    {
      "cell_type": "markdown",
      "source": [
        "**Tokenization**"
      ],
      "metadata": {
        "id": "Nhc8oTBeklC8"
      }
    },
    {
      "cell_type": "code",
      "source": [
        "import nltk"
      ],
      "metadata": {
        "id": "gzAxc07rkd_Q"
      },
      "execution_count": 26,
      "outputs": []
    },
    {
      "cell_type": "code",
      "source": [
        "text = 'Here’s to the crazy ones, the misfits, the rebels, the troublemakers, the round pegs in the square holes. \\\n",
        "The ones who see things differently — they’re not fond of rules. \\\n",
        "You can quote them, disagree with them, glorify or vilify them, \\\n",
        "but the only thing you can’t do is ignore them because they change things. \\\n",
        "They push the human race forward, and while some may see them as the crazy ones, we see genius, \\\n",
        "because the ones who are crazy enough to think that they can change the world, are the ones who do.'"
      ],
      "metadata": {
        "id": "UU2iIt0Lm2dw"
      },
      "execution_count": 27,
      "outputs": []
    },
    {
      "cell_type": "code",
      "source": [
        "text.split()\n",
        "len(text.split())"
      ],
      "metadata": {
        "id": "CHqi5LpKm2bg",
        "outputId": "6831dade-14d8-4723-e168-f0b0f4cf421b",
        "colab": {
          "base_uri": "https://localhost:8080/"
        }
      },
      "execution_count": 35,
      "outputs": [
        {
          "output_type": "execute_result",
          "data": {
            "text/plain": [
              "94"
            ]
          },
          "metadata": {},
          "execution_count": 35
        }
      ]
    },
    {
      "cell_type": "code",
      "source": [
        "' '.join(text.split())"
      ],
      "metadata": {
        "id": "zvvjo1z1m2Pj"
      },
      "execution_count": null,
      "outputs": []
    },
    {
      "cell_type": "code",
      "source": [
        "from nltk.tokenize import word_tokenize\n",
        "nltk.download('punkt')\n",
        "words = word_tokenize(text)\n",
        "words\n",
        "len(words)"
      ],
      "metadata": {
        "id": "j2ZB4MmVm2IU",
        "outputId": "4e933c21-94bd-4cd1-bcc1-d6a2cf628358",
        "colab": {
          "base_uri": "https://localhost:8080/"
        }
      },
      "execution_count": 36,
      "outputs": [
        {
          "output_type": "stream",
          "name": "stdout",
          "text": [
            "[nltk_data] Downloading package punkt to /root/nltk_data...\n",
            "[nltk_data]   Package punkt is already up-to-date!\n"
          ]
        },
        {
          "output_type": "execute_result",
          "data": {
            "text/plain": [
              "115"
            ]
          },
          "metadata": {},
          "execution_count": 36
        }
      ]
    },
    {
      "cell_type": "code",
      "source": [
        "from nltk.tokenize import RegexpTokenizer\n",
        "retokenize = RegexpTokenizer(\"[\\w]+\")\n",
        "words = retokenize.tokenize(text)\n",
        "words"
      ],
      "metadata": {
        "id": "hW3QU0_V3w6f"
      },
      "execution_count": null,
      "outputs": []
    },
    {
      "cell_type": "markdown",
      "source": [
        "**Normalization** \n",
        "\n",
        "Stemming: am → am, the going → the go, having → hav (잘라주는 것)\n",
        "\n",
        "Lemmatization: am → be, the going → the going, having → have (원형으로 잡아주는 것)"
      ],
      "metadata": {
        "id": "4nGe5-WUqeMm"
      }
    },
    {
      "cell_type": "code",
      "source": [
        "from nltk.stem import PorterStemmer\n",
        "stemmer = PorterStemmer()\n",
        "[stemmer.stem(w) for w in words]"
      ],
      "metadata": {
        "id": "4lAfbByim2A8",
        "outputId": "a539ee20-5e2a-4dc5-bbc0-e1ea9a010604",
        "colab": {
          "base_uri": "https://localhost:8080/"
        }
      },
      "execution_count": 40,
      "outputs": [
        {
          "output_type": "stream",
          "name": "stdout",
          "text": [
            "['here', '’', 's', 'to', 'the', 'crazi', 'one', ',', 'the', 'misfit', ',', 'the', 'rebel', ',', 'the', 'troublemak', ',', 'the', 'round', 'peg', 'in', 'the', 'squar', 'hole', '.', 'the', 'one', 'who', 'see', 'thing', 'differ', '—', 'they', '’', 're', 'not', 'fond', 'of', 'rule', '.', 'you', 'can', 'quot', 'them', ',', 'disagre', 'with', 'them', ',', 'glorifi', 'or', 'vilifi', 'them', ',', 'but', 'the', 'onli', 'thing', 'you', 'can', '’', 't', 'do', 'is', 'ignor', 'them', 'becaus', 'they', 'chang', 'thing', '.', 'they', 'push', 'the', 'human', 'race', 'forward', ',', 'and', 'while', 'some', 'may', 'see', 'them', 'as', 'the', 'crazi', 'one', ',', 'we', 'see', 'geniu', ',', 'becaus', 'the', 'one', 'who', 'are', 'crazi', 'enough', 'to', 'think', 'that', 'they', 'can', 'chang', 'the', 'world', ',', 'are', 'the', 'one', 'who', 'do', '.']\n"
          ]
        }
      ]
    },
    {
      "cell_type": "code",
      "source": [
        "from nltk.stem import LancasterStemmer\n",
        "stemmer = LancasterStemmer()\n",
        "[stemmer.stem(w) for w in words]"
      ],
      "metadata": {
        "id": "RyGCTG0cm15Z"
      },
      "execution_count": null,
      "outputs": []
    },
    {
      "cell_type": "code",
      "source": [
        "from nltk.stem import WordNetLemmatizer\n",
        "nltk.download('wordnet')\n",
        "lemmatizer = WordNetLemmatizer()\n",
        "[lemmatizer.lemmatize(w) for w in words]"
      ],
      "metadata": {
        "id": "K2Etvsnnm1xL"
      },
      "execution_count": null,
      "outputs": []
    },
    {
      "cell_type": "markdown",
      "source": [
        "# Stopword"
      ],
      "metadata": {
        "id": "cdqz5iPmr-bQ"
      }
    },
    {
      "cell_type": "code",
      "source": [
        "from nltk.corpus import stopwords  \n",
        "nltk.download('stopwords')\n",
        "print(words)\n",
        "words = [w for w in words if not w in stopwords.words('english')]\n",
        "print(words)"
      ],
      "metadata": {
        "id": "bnOmR-5cquLG",
        "outputId": "bc7fd66a-c7d6-4a00-eba7-f13091242263",
        "colab": {
          "base_uri": "https://localhost:8080/"
        }
      },
      "execution_count": 41,
      "outputs": [
        {
          "output_type": "stream",
          "name": "stdout",
          "text": [
            "[nltk_data] Downloading package stopwords to /root/nltk_data...\n",
            "[nltk_data]   Unzipping corpora/stopwords.zip.\n",
            "['Here', '’', 's', 'to', 'the', 'crazy', 'ones', ',', 'the', 'misfits', ',', 'the', 'rebels', ',', 'the', 'troublemakers', ',', 'the', 'round', 'pegs', 'in', 'the', 'square', 'holes', '.', 'The', 'ones', 'who', 'see', 'things', 'differently', '—', 'they', '’', 're', 'not', 'fond', 'of', 'rules', '.', 'You', 'can', 'quote', 'them', ',', 'disagree', 'with', 'them', ',', 'glorify', 'or', 'vilify', 'them', ',', 'but', 'the', 'only', 'thing', 'you', 'can', '’', 't', 'do', 'is', 'ignore', 'them', 'because', 'they', 'change', 'things', '.', 'They', 'push', 'the', 'human', 'race', 'forward', ',', 'and', 'while', 'some', 'may', 'see', 'them', 'as', 'the', 'crazy', 'ones', ',', 'we', 'see', 'genius', ',', 'because', 'the', 'ones', 'who', 'are', 'crazy', 'enough', 'to', 'think', 'that', 'they', 'can', 'change', 'the', 'world', ',', 'are', 'the', 'ones', 'who', 'do', '.']\n",
            "['Here', '’', 'crazy', 'ones', ',', 'misfits', ',', 'rebels', ',', 'troublemakers', ',', 'round', 'pegs', 'square', 'holes', '.', 'The', 'ones', 'see', 'things', 'differently', '—', '’', 'fond', 'rules', '.', 'You', 'quote', ',', 'disagree', ',', 'glorify', 'vilify', ',', 'thing', '’', 'ignore', 'change', 'things', '.', 'They', 'push', 'human', 'race', 'forward', ',', 'may', 'see', 'crazy', 'ones', ',', 'see', 'genius', ',', 'ones', 'crazy', 'enough', 'think', 'change', 'world', ',', 'ones', '.']\n"
          ]
        }
      ]
    },
    {
      "cell_type": "markdown",
      "source": [
        "# Collocation, Concordance"
      ],
      "metadata": {
        "id": "TIu5yPT7tcvv"
      }
    },
    {
      "cell_type": "code",
      "source": [
        "nltk.download('gutenberg')\n",
        "text = nltk.corpus.gutenberg.raw('melville-moby_dick.txt')\n",
        "words = nltk.word_tokenize(text)\n",
        "words\n",
        "len(text)"
      ],
      "metadata": {
        "id": "2SJeFB-5quHy"
      },
      "execution_count": null,
      "outputs": []
    },
    {
      "cell_type": "code",
      "source": [
        "nltk.download('gutenberg')\n",
        "text = nltk.corpus.gutenberg.raw('austen-emma.txt')\n",
        "words = retokenize.tokenize(text)"
      ],
      "metadata": {
        "id": "TXm3GnlN4-9e",
        "outputId": "c21d19fb-d09c-4992-988a-7983f7dfc430",
        "colab": {
          "base_uri": "https://localhost:8080/"
        }
      },
      "execution_count": 59,
      "outputs": [
        {
          "output_type": "stream",
          "name": "stdout",
          "text": [
            "[nltk_data] Downloading package gutenberg to /root/nltk_data...\n",
            "[nltk_data]   Package gutenberg is already up-to-date!\n"
          ]
        }
      ]
    },
    {
      "cell_type": "code",
      "source": [
        "len(words)"
      ],
      "metadata": {
        "id": "fjDySB_fquFR",
        "outputId": "d50ab70c-920e-469c-da68-999173b1db94",
        "colab": {
          "base_uri": "https://localhost:8080/"
        }
      },
      "execution_count": 46,
      "outputs": [
        {
          "output_type": "execute_result",
          "data": {
            "text/plain": [
              "254989"
            ]
          },
          "metadata": {},
          "execution_count": 46
        }
      ]
    },
    {
      "cell_type": "code",
      "source": [
        "nltk.Text(words).collocations()"
      ],
      "metadata": {
        "id": "E_QOBXAZquCx",
        "outputId": "e8874bdb-4603-4021-b735-ccfd45023584",
        "colab": {
          "base_uri": "https://localhost:8080/"
        }
      },
      "execution_count": 60,
      "outputs": [
        {
          "output_type": "stream",
          "name": "stdout",
          "text": [
            "Mrs Weston; Frank Churchill; Miss Woodhouse; Mrs Elton; Miss Bates;\n",
            "Jane Fairfax; Miss Fairfax; every thing; young man; every body; great\n",
            "deal; Mrs Goddard; dare say; Maple Grove; John Knightley; Miss Taylor;\n",
            "Miss Smith; Robert Martin; Colonel Campbell; Box Hill\n"
          ]
        }
      ]
    },
    {
      "cell_type": "code",
      "source": [
        "nltk.Text(words).dispersion_plot([\"Emma\", \"Knightley\", \"Frank\", \"Jane\", \"Harriet\", \"Robert\"])"
      ],
      "metadata": {
        "id": "sjfA0nLW5nkX",
        "outputId": "37b4021f-d5bb-4072-b770-2a259561104d",
        "colab": {
          "base_uri": "https://localhost:8080/",
          "height": 295
        }
      },
      "execution_count": 61,
      "outputs": [
        {
          "output_type": "display_data",
          "data": {
            "image/png": "[encoded data removed]",
            "text/plain": [
              "<Figure size 432x288 with 1 Axes>"
            ]
          },
          "metadata": {
            "needs_background": "light"
          }
        }
      ]
    },
    {
      "cell_type": "code",
      "source": [
        "nltk.Text(words).concordance('great', 50, 2)"
      ],
      "metadata": {
        "id": "ARLaL9zduevG",
        "outputId": "82259a7e-f18b-469d-9e7e-7cce21063683",
        "colab": {
          "base_uri": "https://localhost:8080/"
        }
      },
      "execution_count": 52,
      "outputs": [
        {
          "output_type": "stream",
          "name": "stdout",
          "text": [
            "Displaying 2 of 303 matches:\n",
            " . `` And God created great whales . '' -- GENESI\n",
            "e Lord had prepared a great fish to swallow up Jo\n"
          ]
        }
      ]
    },
    {
      "cell_type": "markdown",
      "source": [
        "# Frequency distribution, Frequency plot"
      ],
      "metadata": {
        "id": "tr8Bgv0qvJC_"
      }
    },
    {
      "cell_type": "code",
      "source": [
        "nltk.FreqDist(words).most_common(10)"
      ],
      "metadata": {
        "id": "8ByuMelXufsm",
        "outputId": "fd034ba2-698c-4c71-ef07-4a1e9a37c6c3",
        "colab": {
          "base_uri": "https://localhost:8080/"
        }
      },
      "execution_count": 53,
      "outputs": [
        {
          "output_type": "execute_result",
          "data": {
            "text/plain": [
              "[(',', 19204),\n",
              " ('the', 13715),\n",
              " ('.', 7308),\n",
              " ('of', 6513),\n",
              " ('and', 6010),\n",
              " ('a', 4545),\n",
              " ('to', 4515),\n",
              " (';', 4173),\n",
              " ('in', 3908),\n",
              " ('that', 2978)]"
            ]
          },
          "metadata": {},
          "execution_count": 53
        }
      ]
    },
    {
      "cell_type": "code",
      "source": [
        ""
      ],
      "metadata": {
        "id": "E21AmKnbufpZ"
      },
      "execution_count": null,
      "outputs": []
    },
    {
      "cell_type": "markdown",
      "source": [
        "# Dictionary"
      ],
      "metadata": {
        "id": "2B4lZrgYvxTq"
      }
    },
    {
      "cell_type": "code",
      "source": [
        "nltk.download('words')\n",
        "nltk.corpus.words.words('en')[-20:-1]"
      ],
      "metadata": {
        "id": "FZld_BEMuflX",
        "outputId": "c2b344ac-5e15-4ce6-fce9-a45cf2f6be75",
        "colab": {
          "base_uri": "https://localhost:8080/"
        }
      },
      "execution_count": 54,
      "outputs": [
        {
          "output_type": "stream",
          "name": "stdout",
          "text": [
            "[nltk_data] Downloading package words to /root/nltk_data...\n",
            "[nltk_data]   Unzipping corpora/words.zip.\n"
          ]
        },
        {
          "output_type": "execute_result",
          "data": {
            "text/plain": [
              "['zymosis',\n",
              " 'zymosterol',\n",
              " 'zymosthenic',\n",
              " 'zymotechnic',\n",
              " 'zymotechnical',\n",
              " 'zymotechnics',\n",
              " 'zymotechny',\n",
              " 'zymotic',\n",
              " 'zymotically',\n",
              " 'zymotize',\n",
              " 'zymotoxic',\n",
              " 'zymurgy',\n",
              " 'Zyrenian',\n",
              " 'Zyrian',\n",
              " 'Zyryan',\n",
              " 'zythem',\n",
              " 'Zythia',\n",
              " 'zythum',\n",
              " 'Zyzomys']"
            ]
          },
          "metadata": {},
          "execution_count": 54
        }
      ]
    },
    {
      "cell_type": "code",
      "source": [
        ""
      ],
      "metadata": {
        "id": "KET-e4EyufiJ"
      },
      "execution_count": null,
      "outputs": []
    },
    {
      "cell_type": "markdown",
      "source": [
        "# Regular expression"
      ],
      "metadata": {
        "id": "R9zbYOjlwssu"
      }
    },
    {
      "cell_type": "code",
      "source": [
        "import re"
      ],
      "metadata": {
        "id": "o3XDe7K5ufcX"
      },
      "execution_count": 55,
      "outputs": []
    },
    {
      "cell_type": "code",
      "source": [
        "word = 'supercalifragilisticexpialidocious'\n",
        "re.search('li',word)"
      ],
      "metadata": {
        "id": "PZ8P8x5KueoQ",
        "outputId": "3a4b1dac-51c6-4e34-dccf-a2e7549512bf",
        "colab": {
          "base_uri": "https://localhost:8080/"
        }
      },
      "execution_count": 56,
      "outputs": [
        {
          "output_type": "execute_result",
          "data": {
            "text/plain": [
              "<re.Match object; span=(7, 9), match='li'>"
            ]
          },
          "metadata": {},
          "execution_count": 56
        }
      ]
    },
    {
      "cell_type": "code",
      "source": [
        ""
      ],
      "metadata": {
        "id": "2tbkarSM0ZjL"
      },
      "execution_count": null,
      "outputs": []
    },
    {
      "cell_type": "code",
      "source": [
        ""
      ],
      "metadata": {
        "id": "zWeNDsoo0Zfa"
      },
      "execution_count": null,
      "outputs": []
    },
    {
      "cell_type": "code",
      "source": [
        ""
      ],
      "metadata": {
        "id": "P1YPkFRC0Zbc"
      },
      "execution_count": null,
      "outputs": []
    },
    {
      "cell_type": "code",
      "source": [
        ""
      ],
      "metadata": {
        "id": "z0MaCRq60ZXm"
      },
      "execution_count": null,
      "outputs": []
    },
    {
      "cell_type": "code",
      "source": [
        ""
      ],
      "metadata": {
        "id": "pRk1XVjw0ZTv"
      },
      "execution_count": null,
      "outputs": []
    },
    {
      "cell_type": "code",
      "source": [
        ""
      ],
      "metadata": {
        "id": "UORPaXKK0ZMU"
      },
      "execution_count": null,
      "outputs": []
    },
    {
      "cell_type": "code",
      "source": [
        ""
      ],
      "metadata": {
        "id": "wSnn9c_a0ZJf"
      },
      "execution_count": null,
      "outputs": []
    }
  ]
}